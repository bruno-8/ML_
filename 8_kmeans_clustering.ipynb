{
  "nbformat": 4,
  "nbformat_minor": 0,
  "metadata": {
    "colab": {
      "provenance": []
    },
    "kernelspec": {
      "name": "python3",
      "display_name": "Python 3"
    },
    "language_info": {
      "name": "python"
    }
  },
  "cells": [
    {
      "cell_type": "markdown",
      "source": [
        "Varun Mehrotra B106\n",
        "\n",
        "---\n",
        "\n",
        "**Lab-8**"
      ],
      "metadata": {
        "id": "sUtGIHzlD9aN"
      }
    },
    {
      "cell_type": "code",
      "execution_count": null,
      "metadata": {
        "id": "_emMUo5buSK4"
      },
      "outputs": [],
      "source": [
        "import pandas as pd\n",
        "import numpy as np\n",
        "import seaborn as sns\n",
        "import matplotlib.pyplot as plt"
      ]
    },
    {
      "cell_type": "code",
      "source": [
        "df=pd.read_csv('Mall_Customers.csv')\n",
        "df"
      ],
      "metadata": {
        "colab": {
          "base_uri": "https://localhost:8080/",
          "height": 424
        },
        "id": "ZNkjzp7fKSdr",
        "outputId": "348c1608-f1e3-495c-ffb7-e2324e16f674"
      },
      "execution_count": null,
      "outputs": [
        {
          "output_type": "execute_result",
          "data": {
            "text/plain": [
              "     CustomerID   Genre  Age  Annual_Income_(k$)  Spending_Score\n",
              "0             1    Male   19                  15              39\n",
              "1             2    Male   21                  15              81\n",
              "2             3  Female   20                  16               6\n",
              "3             4  Female   23                  16              77\n",
              "4             5  Female   31                  17              40\n",
              "..          ...     ...  ...                 ...             ...\n",
              "195         196  Female   35                 120              79\n",
              "196         197  Female   45                 126              28\n",
              "197         198    Male   32                 126              74\n",
              "198         199    Male   32                 137              18\n",
              "199         200    Male   30                 137              83\n",
              "\n",
              "[200 rows x 5 columns]"
            ],
            "text/html": [
              "\n",
              "  <div id=\"df-1b6eb536-c6e8-4053-95fa-260fb25ab1fe\">\n",
              "    <div class=\"colab-df-container\">\n",
              "      <div>\n",
              "<style scoped>\n",
              "    .dataframe tbody tr th:only-of-type {\n",
              "        vertical-align: middle;\n",
              "    }\n",
              "\n",
              "    .dataframe tbody tr th {\n",
              "        vertical-align: top;\n",
              "    }\n",
              "\n",
              "    .dataframe thead th {\n",
              "        text-align: right;\n",
              "    }\n",
              "</style>\n",
              "<table border=\"1\" class=\"dataframe\">\n",
              "  <thead>\n",
              "    <tr style=\"text-align: right;\">\n",
              "      <th></th>\n",
              "      <th>CustomerID</th>\n",
              "      <th>Genre</th>\n",
              "      <th>Age</th>\n",
              "      <th>Annual_Income_(k$)</th>\n",
              "      <th>Spending_Score</th>\n",
              "    </tr>\n",
              "  </thead>\n",
              "  <tbody>\n",
              "    <tr>\n",
              "      <th>0</th>\n",
              "      <td>1</td>\n",
              "      <td>Male</td>\n",
              "      <td>19</td>\n",
              "      <td>15</td>\n",
              "      <td>39</td>\n",
              "    </tr>\n",
              "    <tr>\n",
              "      <th>1</th>\n",
              "      <td>2</td>\n",
              "      <td>Male</td>\n",
              "      <td>21</td>\n",
              "      <td>15</td>\n",
              "      <td>81</td>\n",
              "    </tr>\n",
              "    <tr>\n",
              "      <th>2</th>\n",
              "      <td>3</td>\n",
              "      <td>Female</td>\n",
              "      <td>20</td>\n",
              "      <td>16</td>\n",
              "      <td>6</td>\n",
              "    </tr>\n",
              "    <tr>\n",
              "      <th>3</th>\n",
              "      <td>4</td>\n",
              "      <td>Female</td>\n",
              "      <td>23</td>\n",
              "      <td>16</td>\n",
              "      <td>77</td>\n",
              "    </tr>\n",
              "    <tr>\n",
              "      <th>4</th>\n",
              "      <td>5</td>\n",
              "      <td>Female</td>\n",
              "      <td>31</td>\n",
              "      <td>17</td>\n",
              "      <td>40</td>\n",
              "    </tr>\n",
              "    <tr>\n",
              "      <th>...</th>\n",
              "      <td>...</td>\n",
              "      <td>...</td>\n",
              "      <td>...</td>\n",
              "      <td>...</td>\n",
              "      <td>...</td>\n",
              "    </tr>\n",
              "    <tr>\n",
              "      <th>195</th>\n",
              "      <td>196</td>\n",
              "      <td>Female</td>\n",
              "      <td>35</td>\n",
              "      <td>120</td>\n",
              "      <td>79</td>\n",
              "    </tr>\n",
              "    <tr>\n",
              "      <th>196</th>\n",
              "      <td>197</td>\n",
              "      <td>Female</td>\n",
              "      <td>45</td>\n",
              "      <td>126</td>\n",
              "      <td>28</td>\n",
              "    </tr>\n",
              "    <tr>\n",
              "      <th>197</th>\n",
              "      <td>198</td>\n",
              "      <td>Male</td>\n",
              "      <td>32</td>\n",
              "      <td>126</td>\n",
              "      <td>74</td>\n",
              "    </tr>\n",
              "    <tr>\n",
              "      <th>198</th>\n",
              "      <td>199</td>\n",
              "      <td>Male</td>\n",
              "      <td>32</td>\n",
              "      <td>137</td>\n",
              "      <td>18</td>\n",
              "    </tr>\n",
              "    <tr>\n",
              "      <th>199</th>\n",
              "      <td>200</td>\n",
              "      <td>Male</td>\n",
              "      <td>30</td>\n",
              "      <td>137</td>\n",
              "      <td>83</td>\n",
              "    </tr>\n",
              "  </tbody>\n",
              "</table>\n",
              "<p>200 rows × 5 columns</p>\n",
              "</div>\n",
              "      <button class=\"colab-df-convert\" onclick=\"convertToInteractive('df-1b6eb536-c6e8-4053-95fa-260fb25ab1fe')\"\n",
              "              title=\"Convert this dataframe to an interactive table.\"\n",
              "              style=\"display:none;\">\n",
              "        \n",
              "  <svg xmlns=\"http://www.w3.org/2000/svg\" height=\"24px\"viewBox=\"0 0 24 24\"\n",
              "       width=\"24px\">\n",
              "    <path d=\"M0 0h24v24H0V0z\" fill=\"none\"/>\n",
              "    <path d=\"M18.56 5.44l.94 2.06.94-2.06 2.06-.94-2.06-.94-.94-2.06-.94 2.06-2.06.94zm-11 1L8.5 8.5l.94-2.06 2.06-.94-2.06-.94L8.5 2.5l-.94 2.06-2.06.94zm10 10l.94 2.06.94-2.06 2.06-.94-2.06-.94-.94-2.06-.94 2.06-2.06.94z\"/><path d=\"M17.41 7.96l-1.37-1.37c-.4-.4-.92-.59-1.43-.59-.52 0-1.04.2-1.43.59L10.3 9.45l-7.72 7.72c-.78.78-.78 2.05 0 2.83L4 21.41c.39.39.9.59 1.41.59.51 0 1.02-.2 1.41-.59l7.78-7.78 2.81-2.81c.8-.78.8-2.07 0-2.86zM5.41 20L4 18.59l7.72-7.72 1.47 1.35L5.41 20z\"/>\n",
              "  </svg>\n",
              "      </button>\n",
              "      \n",
              "  <style>\n",
              "    .colab-df-container {\n",
              "      display:flex;\n",
              "      flex-wrap:wrap;\n",
              "      gap: 12px;\n",
              "    }\n",
              "\n",
              "    .colab-df-convert {\n",
              "      background-color: #E8F0FE;\n",
              "      border: none;\n",
              "      border-radius: 50%;\n",
              "      cursor: pointer;\n",
              "      display: none;\n",
              "      fill: #1967D2;\n",
              "      height: 32px;\n",
              "      padding: 0 0 0 0;\n",
              "      width: 32px;\n",
              "    }\n",
              "\n",
              "    .colab-df-convert:hover {\n",
              "      background-color: #E2EBFA;\n",
              "      box-shadow: 0px 1px 2px rgba(60, 64, 67, 0.3), 0px 1px 3px 1px rgba(60, 64, 67, 0.15);\n",
              "      fill: #174EA6;\n",
              "    }\n",
              "\n",
              "    [theme=dark] .colab-df-convert {\n",
              "      background-color: #3B4455;\n",
              "      fill: #D2E3FC;\n",
              "    }\n",
              "\n",
              "    [theme=dark] .colab-df-convert:hover {\n",
              "      background-color: #434B5C;\n",
              "      box-shadow: 0px 1px 3px 1px rgba(0, 0, 0, 0.15);\n",
              "      filter: drop-shadow(0px 1px 2px rgba(0, 0, 0, 0.3));\n",
              "      fill: #FFFFFF;\n",
              "    }\n",
              "  </style>\n",
              "\n",
              "      <script>\n",
              "        const buttonEl =\n",
              "          document.querySelector('#df-1b6eb536-c6e8-4053-95fa-260fb25ab1fe button.colab-df-convert');\n",
              "        buttonEl.style.display =\n",
              "          google.colab.kernel.accessAllowed ? 'block' : 'none';\n",
              "\n",
              "        async function convertToInteractive(key) {\n",
              "          const element = document.querySelector('#df-1b6eb536-c6e8-4053-95fa-260fb25ab1fe');\n",
              "          const dataTable =\n",
              "            await google.colab.kernel.invokeFunction('convertToInteractive',\n",
              "                                                     [key], {});\n",
              "          if (!dataTable) return;\n",
              "\n",
              "          const docLinkHtml = 'Like what you see? Visit the ' +\n",
              "            '<a target=\"_blank\" href=https://colab.research.google.com/notebooks/data_table.ipynb>data table notebook</a>'\n",
              "            + ' to learn more about interactive tables.';\n",
              "          element.innerHTML = '';\n",
              "          dataTable['output_type'] = 'display_data';\n",
              "          await google.colab.output.renderOutput(dataTable, element);\n",
              "          const docLink = document.createElement('div');\n",
              "          docLink.innerHTML = docLinkHtml;\n",
              "          element.appendChild(docLink);\n",
              "        }\n",
              "      </script>\n",
              "    </div>\n",
              "  </div>\n",
              "  "
            ]
          },
          "metadata": {},
          "execution_count": 2
        }
      ]
    },
    {
      "cell_type": "code",
      "source": [
        "df.head()"
      ],
      "metadata": {
        "colab": {
          "base_uri": "https://localhost:8080/",
          "height": 206
        },
        "id": "YqvuFM7KKaoe",
        "outputId": "ceb3a40d-2e3f-4b52-d44d-04c6e3f39b9f"
      },
      "execution_count": null,
      "outputs": [
        {
          "output_type": "execute_result",
          "data": {
            "text/plain": [
              "   CustomerID   Genre  Age  Annual_Income_(k$)  Spending_Score\n",
              "0           1    Male   19                  15              39\n",
              "1           2    Male   21                  15              81\n",
              "2           3  Female   20                  16               6\n",
              "3           4  Female   23                  16              77\n",
              "4           5  Female   31                  17              40"
            ],
            "text/html": [
              "\n",
              "  <div id=\"df-97869991-8448-4a13-be06-0ad4f384ddc8\">\n",
              "    <div class=\"colab-df-container\">\n",
              "      <div>\n",
              "<style scoped>\n",
              "    .dataframe tbody tr th:only-of-type {\n",
              "        vertical-align: middle;\n",
              "    }\n",
              "\n",
              "    .dataframe tbody tr th {\n",
              "        vertical-align: top;\n",
              "    }\n",
              "\n",
              "    .dataframe thead th {\n",
              "        text-align: right;\n",
              "    }\n",
              "</style>\n",
              "<table border=\"1\" class=\"dataframe\">\n",
              "  <thead>\n",
              "    <tr style=\"text-align: right;\">\n",
              "      <th></th>\n",
              "      <th>CustomerID</th>\n",
              "      <th>Genre</th>\n",
              "      <th>Age</th>\n",
              "      <th>Annual_Income_(k$)</th>\n",
              "      <th>Spending_Score</th>\n",
              "    </tr>\n",
              "  </thead>\n",
              "  <tbody>\n",
              "    <tr>\n",
              "      <th>0</th>\n",
              "      <td>1</td>\n",
              "      <td>Male</td>\n",
              "      <td>19</td>\n",
              "      <td>15</td>\n",
              "      <td>39</td>\n",
              "    </tr>\n",
              "    <tr>\n",
              "      <th>1</th>\n",
              "      <td>2</td>\n",
              "      <td>Male</td>\n",
              "      <td>21</td>\n",
              "      <td>15</td>\n",
              "      <td>81</td>\n",
              "    </tr>\n",
              "    <tr>\n",
              "      <th>2</th>\n",
              "      <td>3</td>\n",
              "      <td>Female</td>\n",
              "      <td>20</td>\n",
              "      <td>16</td>\n",
              "      <td>6</td>\n",
              "    </tr>\n",
              "    <tr>\n",
              "      <th>3</th>\n",
              "      <td>4</td>\n",
              "      <td>Female</td>\n",
              "      <td>23</td>\n",
              "      <td>16</td>\n",
              "      <td>77</td>\n",
              "    </tr>\n",
              "    <tr>\n",
              "      <th>4</th>\n",
              "      <td>5</td>\n",
              "      <td>Female</td>\n",
              "      <td>31</td>\n",
              "      <td>17</td>\n",
              "      <td>40</td>\n",
              "    </tr>\n",
              "  </tbody>\n",
              "</table>\n",
              "</div>\n",
              "      <button class=\"colab-df-convert\" onclick=\"convertToInteractive('df-97869991-8448-4a13-be06-0ad4f384ddc8')\"\n",
              "              title=\"Convert this dataframe to an interactive table.\"\n",
              "              style=\"display:none;\">\n",
              "        \n",
              "  <svg xmlns=\"http://www.w3.org/2000/svg\" height=\"24px\"viewBox=\"0 0 24 24\"\n",
              "       width=\"24px\">\n",
              "    <path d=\"M0 0h24v24H0V0z\" fill=\"none\"/>\n",
              "    <path d=\"M18.56 5.44l.94 2.06.94-2.06 2.06-.94-2.06-.94-.94-2.06-.94 2.06-2.06.94zm-11 1L8.5 8.5l.94-2.06 2.06-.94-2.06-.94L8.5 2.5l-.94 2.06-2.06.94zm10 10l.94 2.06.94-2.06 2.06-.94-2.06-.94-.94-2.06-.94 2.06-2.06.94z\"/><path d=\"M17.41 7.96l-1.37-1.37c-.4-.4-.92-.59-1.43-.59-.52 0-1.04.2-1.43.59L10.3 9.45l-7.72 7.72c-.78.78-.78 2.05 0 2.83L4 21.41c.39.39.9.59 1.41.59.51 0 1.02-.2 1.41-.59l7.78-7.78 2.81-2.81c.8-.78.8-2.07 0-2.86zM5.41 20L4 18.59l7.72-7.72 1.47 1.35L5.41 20z\"/>\n",
              "  </svg>\n",
              "      </button>\n",
              "      \n",
              "  <style>\n",
              "    .colab-df-container {\n",
              "      display:flex;\n",
              "      flex-wrap:wrap;\n",
              "      gap: 12px;\n",
              "    }\n",
              "\n",
              "    .colab-df-convert {\n",
              "      background-color: #E8F0FE;\n",
              "      border: none;\n",
              "      border-radius: 50%;\n",
              "      cursor: pointer;\n",
              "      display: none;\n",
              "      fill: #1967D2;\n",
              "      height: 32px;\n",
              "      padding: 0 0 0 0;\n",
              "      width: 32px;\n",
              "    }\n",
              "\n",
              "    .colab-df-convert:hover {\n",
              "      background-color: #E2EBFA;\n",
              "      box-shadow: 0px 1px 2px rgba(60, 64, 67, 0.3), 0px 1px 3px 1px rgba(60, 64, 67, 0.15);\n",
              "      fill: #174EA6;\n",
              "    }\n",
              "\n",
              "    [theme=dark] .colab-df-convert {\n",
              "      background-color: #3B4455;\n",
              "      fill: #D2E3FC;\n",
              "    }\n",
              "\n",
              "    [theme=dark] .colab-df-convert:hover {\n",
              "      background-color: #434B5C;\n",
              "      box-shadow: 0px 1px 3px 1px rgba(0, 0, 0, 0.15);\n",
              "      filter: drop-shadow(0px 1px 2px rgba(0, 0, 0, 0.3));\n",
              "      fill: #FFFFFF;\n",
              "    }\n",
              "  </style>\n",
              "\n",
              "      <script>\n",
              "        const buttonEl =\n",
              "          document.querySelector('#df-97869991-8448-4a13-be06-0ad4f384ddc8 button.colab-df-convert');\n",
              "        buttonEl.style.display =\n",
              "          google.colab.kernel.accessAllowed ? 'block' : 'none';\n",
              "\n",
              "        async function convertToInteractive(key) {\n",
              "          const element = document.querySelector('#df-97869991-8448-4a13-be06-0ad4f384ddc8');\n",
              "          const dataTable =\n",
              "            await google.colab.kernel.invokeFunction('convertToInteractive',\n",
              "                                                     [key], {});\n",
              "          if (!dataTable) return;\n",
              "\n",
              "          const docLinkHtml = 'Like what you see? Visit the ' +\n",
              "            '<a target=\"_blank\" href=https://colab.research.google.com/notebooks/data_table.ipynb>data table notebook</a>'\n",
              "            + ' to learn more about interactive tables.';\n",
              "          element.innerHTML = '';\n",
              "          dataTable['output_type'] = 'display_data';\n",
              "          await google.colab.output.renderOutput(dataTable, element);\n",
              "          const docLink = document.createElement('div');\n",
              "          docLink.innerHTML = docLinkHtml;\n",
              "          element.appendChild(docLink);\n",
              "        }\n",
              "      </script>\n",
              "    </div>\n",
              "  </div>\n",
              "  "
            ]
          },
          "metadata": {},
          "execution_count": 3
        }
      ]
    },
    {
      "cell_type": "code",
      "source": [
        "df.info()"
      ],
      "metadata": {
        "colab": {
          "base_uri": "https://localhost:8080/"
        },
        "id": "R59DzXL8KgGZ",
        "outputId": "249b79c6-d488-4507-f9ad-f27219e5a0fd"
      },
      "execution_count": null,
      "outputs": [
        {
          "output_type": "stream",
          "name": "stdout",
          "text": [
            "<class 'pandas.core.frame.DataFrame'>\n",
            "RangeIndex: 200 entries, 0 to 199\n",
            "Data columns (total 5 columns):\n",
            " #   Column              Non-Null Count  Dtype \n",
            "---  ------              --------------  ----- \n",
            " 0   CustomerID          200 non-null    int64 \n",
            " 1   Genre               200 non-null    object\n",
            " 2   Age                 200 non-null    int64 \n",
            " 3   Annual_Income_(k$)  200 non-null    int64 \n",
            " 4   Spending_Score      200 non-null    int64 \n",
            "dtypes: int64(4), object(1)\n",
            "memory usage: 7.9+ KB\n"
          ]
        }
      ]
    },
    {
      "cell_type": "code",
      "source": [
        "df.shape"
      ],
      "metadata": {
        "colab": {
          "base_uri": "https://localhost:8080/"
        },
        "id": "sjTje9U2KpDO",
        "outputId": "71aa5c2a-29a8-4a7e-9b5b-6e351c4c2aad"
      },
      "execution_count": null,
      "outputs": [
        {
          "output_type": "execute_result",
          "data": {
            "text/plain": [
              "(200, 5)"
            ]
          },
          "metadata": {},
          "execution_count": 6
        }
      ]
    },
    {
      "cell_type": "code",
      "source": [
        "df.isnull().sum()"
      ],
      "metadata": {
        "colab": {
          "base_uri": "https://localhost:8080/"
        },
        "id": "6c_P4qzRKsiI",
        "outputId": "b597d694-13d1-4b26-f4bc-06d959695b2e"
      },
      "execution_count": null,
      "outputs": [
        {
          "output_type": "execute_result",
          "data": {
            "text/plain": [
              "CustomerID            0\n",
              "Genre                 0\n",
              "Age                   0\n",
              "Annual_Income_(k$)    0\n",
              "Spending_Score        0\n",
              "dtype: int64"
            ]
          },
          "metadata": {},
          "execution_count": 7
        }
      ]
    },
    {
      "cell_type": "code",
      "source": [
        "df.drop_duplicates(inplace = True)"
      ],
      "metadata": {
        "id": "SJy8T1RhMzk8"
      },
      "execution_count": null,
      "outputs": []
    },
    {
      "cell_type": "code",
      "source": [
        "X = df.iloc[:, [2,3]].values\n",
        "X"
      ],
      "metadata": {
        "colab": {
          "base_uri": "https://localhost:8080/"
        },
        "id": "oh6l5JptM8qa",
        "outputId": "331b81e7-ba11-4142-c595-b85b14e97795"
      },
      "execution_count": null,
      "outputs": [
        {
          "output_type": "execute_result",
          "data": {
            "text/plain": [
              "array([[ 19,  15],\n",
              "       [ 21,  15],\n",
              "       [ 20,  16],\n",
              "       [ 23,  16],\n",
              "       [ 31,  17],\n",
              "       [ 22,  17],\n",
              "       [ 35,  18],\n",
              "       [ 23,  18],\n",
              "       [ 64,  19],\n",
              "       [ 30,  19],\n",
              "       [ 67,  19],\n",
              "       [ 35,  19],\n",
              "       [ 58,  20],\n",
              "       [ 24,  20],\n",
              "       [ 37,  20],\n",
              "       [ 22,  20],\n",
              "       [ 35,  21],\n",
              "       [ 20,  21],\n",
              "       [ 52,  23],\n",
              "       [ 35,  23],\n",
              "       [ 35,  24],\n",
              "       [ 25,  24],\n",
              "       [ 46,  25],\n",
              "       [ 31,  25],\n",
              "       [ 54,  28],\n",
              "       [ 29,  28],\n",
              "       [ 45,  28],\n",
              "       [ 35,  28],\n",
              "       [ 40,  29],\n",
              "       [ 23,  29],\n",
              "       [ 60,  30],\n",
              "       [ 21,  30],\n",
              "       [ 53,  33],\n",
              "       [ 18,  33],\n",
              "       [ 49,  33],\n",
              "       [ 21,  33],\n",
              "       [ 42,  34],\n",
              "       [ 30,  34],\n",
              "       [ 36,  37],\n",
              "       [ 20,  37],\n",
              "       [ 65,  38],\n",
              "       [ 24,  38],\n",
              "       [ 48,  39],\n",
              "       [ 31,  39],\n",
              "       [ 49,  39],\n",
              "       [ 24,  39],\n",
              "       [ 50,  40],\n",
              "       [ 27,  40],\n",
              "       [ 29,  40],\n",
              "       [ 31,  40],\n",
              "       [ 49,  42],\n",
              "       [ 33,  42],\n",
              "       [ 31,  43],\n",
              "       [ 59,  43],\n",
              "       [ 50,  43],\n",
              "       [ 47,  43],\n",
              "       [ 51,  44],\n",
              "       [ 69,  44],\n",
              "       [ 27,  46],\n",
              "       [ 53,  46],\n",
              "       [ 70,  46],\n",
              "       [ 19,  46],\n",
              "       [ 67,  47],\n",
              "       [ 54,  47],\n",
              "       [ 63,  48],\n",
              "       [ 18,  48],\n",
              "       [ 43,  48],\n",
              "       [ 68,  48],\n",
              "       [ 19,  48],\n",
              "       [ 32,  48],\n",
              "       [ 70,  49],\n",
              "       [ 47,  49],\n",
              "       [ 60,  50],\n",
              "       [ 60,  50],\n",
              "       [ 59,  54],\n",
              "       [ 26,  54],\n",
              "       [ 45,  54],\n",
              "       [ 40,  54],\n",
              "       [ 23,  54],\n",
              "       [ 49,  54],\n",
              "       [ 57,  54],\n",
              "       [ 38,  54],\n",
              "       [ 67,  54],\n",
              "       [ 46,  54],\n",
              "       [ 21,  54],\n",
              "       [ 48,  54],\n",
              "       [ 55,  57],\n",
              "       [ 22,  57],\n",
              "       [ 34,  58],\n",
              "       [ 50,  58],\n",
              "       [ 68,  59],\n",
              "       [ 18,  59],\n",
              "       [ 48,  60],\n",
              "       [ 40,  60],\n",
              "       [ 32,  60],\n",
              "       [ 24,  60],\n",
              "       [ 47,  60],\n",
              "       [ 27,  60],\n",
              "       [ 48,  61],\n",
              "       [ 20,  61],\n",
              "       [ 23,  62],\n",
              "       [ 49,  62],\n",
              "       [ 67,  62],\n",
              "       [ 26,  62],\n",
              "       [ 49,  62],\n",
              "       [ 21,  62],\n",
              "       [ 66,  63],\n",
              "       [ 54,  63],\n",
              "       [ 68,  63],\n",
              "       [ 66,  63],\n",
              "       [ 65,  63],\n",
              "       [ 19,  63],\n",
              "       [ 38,  64],\n",
              "       [ 19,  64],\n",
              "       [ 18,  65],\n",
              "       [ 19,  65],\n",
              "       [ 63,  65],\n",
              "       [ 49,  65],\n",
              "       [ 51,  67],\n",
              "       [ 50,  67],\n",
              "       [ 27,  67],\n",
              "       [ 38,  67],\n",
              "       [ 40,  69],\n",
              "       [ 39,  69],\n",
              "       [ 23,  70],\n",
              "       [ 31,  70],\n",
              "       [ 43,  71],\n",
              "       [ 40,  71],\n",
              "       [ 59,  71],\n",
              "       [ 38,  71],\n",
              "       [ 47,  71],\n",
              "       [ 39,  71],\n",
              "       [ 25,  72],\n",
              "       [ 31,  72],\n",
              "       [ 20,  73],\n",
              "       [ 29,  73],\n",
              "       [ 44,  73],\n",
              "       [ 32,  73],\n",
              "       [ 19,  74],\n",
              "       [ 35,  74],\n",
              "       [ 57,  75],\n",
              "       [ 32,  75],\n",
              "       [ 28,  76],\n",
              "       [ 32,  76],\n",
              "       [ 25,  77],\n",
              "       [ 28,  77],\n",
              "       [ 48,  77],\n",
              "       [ 32,  77],\n",
              "       [ 34,  78],\n",
              "       [ 34,  78],\n",
              "       [ 43,  78],\n",
              "       [ 39,  78],\n",
              "       [ 44,  78],\n",
              "       [ 38,  78],\n",
              "       [ 47,  78],\n",
              "       [ 27,  78],\n",
              "       [ 37,  78],\n",
              "       [ 30,  78],\n",
              "       [ 34,  78],\n",
              "       [ 30,  78],\n",
              "       [ 56,  79],\n",
              "       [ 29,  79],\n",
              "       [ 19,  81],\n",
              "       [ 31,  81],\n",
              "       [ 50,  85],\n",
              "       [ 36,  85],\n",
              "       [ 42,  86],\n",
              "       [ 33,  86],\n",
              "       [ 36,  87],\n",
              "       [ 32,  87],\n",
              "       [ 40,  87],\n",
              "       [ 28,  87],\n",
              "       [ 36,  87],\n",
              "       [ 36,  87],\n",
              "       [ 52,  88],\n",
              "       [ 30,  88],\n",
              "       [ 58,  88],\n",
              "       [ 27,  88],\n",
              "       [ 59,  93],\n",
              "       [ 35,  93],\n",
              "       [ 37,  97],\n",
              "       [ 32,  97],\n",
              "       [ 46,  98],\n",
              "       [ 29,  98],\n",
              "       [ 41,  99],\n",
              "       [ 30,  99],\n",
              "       [ 54, 101],\n",
              "       [ 28, 101],\n",
              "       [ 41, 103],\n",
              "       [ 36, 103],\n",
              "       [ 34, 103],\n",
              "       [ 32, 103],\n",
              "       [ 33, 113],\n",
              "       [ 38, 113],\n",
              "       [ 47, 120],\n",
              "       [ 35, 120],\n",
              "       [ 45, 126],\n",
              "       [ 32, 126],\n",
              "       [ 32, 137],\n",
              "       [ 30, 137]])"
            ]
          },
          "metadata": {},
          "execution_count": 9
        }
      ]
    },
    {
      "cell_type": "code",
      "source": [
        "#Elbow Method to find the optimal number of clusters\n",
        "from sklearn.cluster import KMeans\n",
        "wcss = []\n",
        "#WCSS(within cluster sum of squares) is the summation of the squared distance of each datapoint from the cluster centres\n",
        "#inertia calculates the wcss for i acc to the formula\n",
        "for i in range(1,11):\n",
        "  kmeans = KMeans(n_clusters = i, init='k-means++', random_state = 0)\n",
        "  kmeans.fit(X)\n",
        "  wcss.append(kmeans.inertia_)"
      ],
      "metadata": {
        "colab": {
          "base_uri": "https://localhost:8080/"
        },
        "id": "BMkt8Y8sNElB",
        "outputId": "d48511d8-abe4-4036-9da8-4b294e7250f7"
      },
      "execution_count": null,
      "outputs": [
        {
          "output_type": "stream",
          "name": "stderr",
          "text": [
            "/usr/local/lib/python3.9/dist-packages/sklearn/cluster/_kmeans.py:870: FutureWarning: The default value of `n_init` will change from 10 to 'auto' in 1.4. Set the value of `n_init` explicitly to suppress the warning\n",
            "  warnings.warn(\n",
            "/usr/local/lib/python3.9/dist-packages/sklearn/cluster/_kmeans.py:870: FutureWarning: The default value of `n_init` will change from 10 to 'auto' in 1.4. Set the value of `n_init` explicitly to suppress the warning\n",
            "  warnings.warn(\n",
            "/usr/local/lib/python3.9/dist-packages/sklearn/cluster/_kmeans.py:870: FutureWarning: The default value of `n_init` will change from 10 to 'auto' in 1.4. Set the value of `n_init` explicitly to suppress the warning\n",
            "  warnings.warn(\n",
            "/usr/local/lib/python3.9/dist-packages/sklearn/cluster/_kmeans.py:870: FutureWarning: The default value of `n_init` will change from 10 to 'auto' in 1.4. Set the value of `n_init` explicitly to suppress the warning\n",
            "  warnings.warn(\n",
            "/usr/local/lib/python3.9/dist-packages/sklearn/cluster/_kmeans.py:870: FutureWarning: The default value of `n_init` will change from 10 to 'auto' in 1.4. Set the value of `n_init` explicitly to suppress the warning\n",
            "  warnings.warn(\n",
            "/usr/local/lib/python3.9/dist-packages/sklearn/cluster/_kmeans.py:870: FutureWarning: The default value of `n_init` will change from 10 to 'auto' in 1.4. Set the value of `n_init` explicitly to suppress the warning\n",
            "  warnings.warn(\n",
            "/usr/local/lib/python3.9/dist-packages/sklearn/cluster/_kmeans.py:870: FutureWarning: The default value of `n_init` will change from 10 to 'auto' in 1.4. Set the value of `n_init` explicitly to suppress the warning\n",
            "  warnings.warn(\n",
            "/usr/local/lib/python3.9/dist-packages/sklearn/cluster/_kmeans.py:870: FutureWarning: The default value of `n_init` will change from 10 to 'auto' in 1.4. Set the value of `n_init` explicitly to suppress the warning\n",
            "  warnings.warn(\n",
            "/usr/local/lib/python3.9/dist-packages/sklearn/cluster/_kmeans.py:870: FutureWarning: The default value of `n_init` will change from 10 to 'auto' in 1.4. Set the value of `n_init` explicitly to suppress the warning\n",
            "  warnings.warn(\n",
            "/usr/local/lib/python3.9/dist-packages/sklearn/cluster/_kmeans.py:870: FutureWarning: The default value of `n_init` will change from 10 to 'auto' in 1.4. Set the value of `n_init` explicitly to suppress the warning\n",
            "  warnings.warn(\n"
          ]
        }
      ]
    },
    {
      "cell_type": "code",
      "source": [
        "wcss"
      ],
      "metadata": {
        "colab": {
          "base_uri": "https://localhost:8080/"
        },
        "id": "sVFvg9xzQ6O3",
        "outputId": "a1b01a0c-7c13-4bc0-c2e1-ff3fa51300ca"
      },
      "execution_count": null,
      "outputs": [
        {
          "output_type": "execute_result",
          "data": {
            "text/plain": [
              "[176108.78000000003,\n",
              " 87121.56591478697,\n",
              " 59486.961439280356,\n",
              " 39529.88796736351,\n",
              " 31976.05381449878,\n",
              " 25443.166917679828,\n",
              " 21842.435556985554,\n",
              " 18748.83803296119,\n",
              " 16102.122253333775,\n",
              " 13697.901521027245]"
            ]
          },
          "metadata": {},
          "execution_count": 11
        }
      ]
    },
    {
      "cell_type": "code",
      "source": [
        "plt.figure(figsize=(10,5))\n",
        "k = range(1,11)\n",
        "plt.plot(k,wcss, marker = 'o', color = 'red')\n",
        "plt.title('The Elbow Method')\n",
        "plt.xlabel('Number of clusters')\n",
        "plt.ylabel('WCSS')\n",
        "plt.show()"
      ],
      "metadata": {
        "colab": {
          "base_uri": "https://localhost:8080/",
          "height": 350
        },
        "id": "rFG51gIsRYgk",
        "outputId": "efb2fdec-8e1b-4ae7-b039-9a8602a8023c"
      },
      "execution_count": null,
      "outputs": [
        {
          "output_type": "display_data",
          "data": {
            "text/plain": [
              "<Figure size 720x360 with 1 Axes>"
            ],
            "image/png": "[encoded data removed]"
          },
          "metadata": {
            "needs_background": "light"
          }
        }
      ]
    },
    {
      "cell_type": "code",
      "source": [
        "#We take the optimal value of K as 5\n",
        "kmeans = KMeans(n_clusters = 5, init = 'k-means++', random_state=0)\n",
        "y_kmeans = kmeans.fit_predict(X)\n",
        "\n"
      ],
      "metadata": {
        "colab": {
          "base_uri": "https://localhost:8080/"
        },
        "id": "4NwdShsdUYAv",
        "outputId": "88ded066-aead-423b-b35d-58604624864f"
      },
      "execution_count": null,
      "outputs": [
        {
          "output_type": "stream",
          "name": "stderr",
          "text": [
            "/usr/local/lib/python3.9/dist-packages/sklearn/cluster/_kmeans.py:870: FutureWarning: The default value of `n_init` will change from 10 to 'auto' in 1.4. Set the value of `n_init` explicitly to suppress the warning\n",
            "  warnings.warn(\n"
          ]
        }
      ]
    },
    {
      "cell_type": "code",
      "source": [
        "y_kmeans"
      ],
      "metadata": {
        "colab": {
          "base_uri": "https://localhost:8080/"
        },
        "id": "DleGIo6ZU7Vv",
        "outputId": "79d1e98b-eb19-4154-e444-31de8cff7cb5"
      },
      "execution_count": null,
      "outputs": [
        {
          "output_type": "execute_result",
          "data": {
            "text/plain": [
              "array([1, 1, 1, 1, 1, 1, 1, 1, 1, 1, 1, 1, 1, 1, 1, 1, 1, 1, 1, 1, 1, 1,\n",
              "       1, 1, 1, 1, 1, 1, 1, 1, 3, 1, 3, 1, 1, 1, 1, 1, 1, 4, 3, 4, 3, 4,\n",
              "       3, 4, 3, 4, 4, 4, 3, 4, 4, 3, 3, 3, 3, 3, 4, 3, 3, 4, 3, 3, 3, 4,\n",
              "       3, 3, 4, 4, 3, 3, 3, 3, 3, 4, 3, 4, 4, 3, 3, 4, 3, 3, 4, 3, 3, 4,\n",
              "       4, 3, 3, 4, 3, 4, 4, 4, 3, 4, 3, 4, 4, 3, 3, 4, 3, 4, 3, 3, 3, 3,\n",
              "       3, 4, 0, 4, 4, 4, 3, 3, 3, 3, 0, 0, 0, 0, 0, 0, 0, 0, 3, 0, 0, 0,\n",
              "       0, 0, 0, 0, 0, 0, 0, 0, 0, 0, 0, 0, 0, 0, 0, 0, 0, 0, 0, 0, 0, 0,\n",
              "       0, 0, 0, 0, 0, 0, 0, 0, 0, 0, 0, 0, 0, 0, 0, 0, 0, 0, 0, 0, 0, 0,\n",
              "       0, 0, 0, 0, 2, 2, 2, 2, 2, 2, 2, 2, 2, 2, 2, 2, 2, 2, 2, 2, 2, 2,\n",
              "       2, 2], dtype=int32)"
            ]
          },
          "metadata": {},
          "execution_count": 14
        }
      ]
    },
    {
      "cell_type": "code",
      "source": [
        "cent = kmeans.cluster_centers_\n",
        "print(cent)"
      ],
      "metadata": {
        "colab": {
          "base_uri": "https://localhost:8080/"
        },
        "id": "sgyBjbjeVAsa",
        "outputId": "ee0acf16-72af-415c-8cec-27eb1c764ecb"
      },
      "execution_count": null,
      "outputs": [
        {
          "output_type": "stream",
          "name": "stdout",
          "text": [
            "[[ 36.03333333  78.05      ]\n",
            " [ 33.86486486  23.72972973]\n",
            " [ 36.6        109.7       ]\n",
            " [ 56.08163265  52.55102041]\n",
            " [ 25.73529412  52.41176471]]\n"
          ]
        }
      ]
    },
    {
      "cell_type": "code",
      "source": [
        "df_kmeans= pd.DataFrame(y_kmeans)\n",
        "df_kmeans"
      ],
      "metadata": {
        "colab": {
          "base_uri": "https://localhost:8080/",
          "height": 424
        },
        "id": "qmHh42KMVVoT",
        "outputId": "b95766bc-f044-47d2-cde6-953bc2a58974"
      },
      "execution_count": null,
      "outputs": [
        {
          "output_type": "execute_result",
          "data": {
            "text/plain": [
              "     0\n",
              "0    1\n",
              "1    1\n",
              "2    1\n",
              "3    1\n",
              "4    1\n",
              "..  ..\n",
              "195  2\n",
              "196  2\n",
              "197  2\n",
              "198  2\n",
              "199  2\n",
              "\n",
              "[200 rows x 1 columns]"
            ],
            "text/html": [
              "\n",
              "  <div id=\"df-b19cd072-7c29-452e-a4e8-f413281a16d8\">\n",
              "    <div class=\"colab-df-container\">\n",
              "      <div>\n",
              "<style scoped>\n",
              "    .dataframe tbody tr th:only-of-type {\n",
              "        vertical-align: middle;\n",
              "    }\n",
              "\n",
              "    .dataframe tbody tr th {\n",
              "        vertical-align: top;\n",
              "    }\n",
              "\n",
              "    .dataframe thead th {\n",
              "        text-align: right;\n",
              "    }\n",
              "</style>\n",
              "<table border=\"1\" class=\"dataframe\">\n",
              "  <thead>\n",
              "    <tr style=\"text-align: right;\">\n",
              "      <th></th>\n",
              "      <th>0</th>\n",
              "    </tr>\n",
              "  </thead>\n",
              "  <tbody>\n",
              "    <tr>\n",
              "      <th>0</th>\n",
              "      <td>1</td>\n",
              "    </tr>\n",
              "    <tr>\n",
              "      <th>1</th>\n",
              "      <td>1</td>\n",
              "    </tr>\n",
              "    <tr>\n",
              "      <th>2</th>\n",
              "      <td>1</td>\n",
              "    </tr>\n",
              "    <tr>\n",
              "      <th>3</th>\n",
              "      <td>1</td>\n",
              "    </tr>\n",
              "    <tr>\n",
              "      <th>4</th>\n",
              "      <td>1</td>\n",
              "    </tr>\n",
              "    <tr>\n",
              "      <th>...</th>\n",
              "      <td>...</td>\n",
              "    </tr>\n",
              "    <tr>\n",
              "      <th>195</th>\n",
              "      <td>2</td>\n",
              "    </tr>\n",
              "    <tr>\n",
              "      <th>196</th>\n",
              "      <td>2</td>\n",
              "    </tr>\n",
              "    <tr>\n",
              "      <th>197</th>\n",
              "      <td>2</td>\n",
              "    </tr>\n",
              "    <tr>\n",
              "      <th>198</th>\n",
              "      <td>2</td>\n",
              "    </tr>\n",
              "    <tr>\n",
              "      <th>199</th>\n",
              "      <td>2</td>\n",
              "    </tr>\n",
              "  </tbody>\n",
              "</table>\n",
              "<p>200 rows × 1 columns</p>\n",
              "</div>\n",
              "      <button class=\"colab-df-convert\" onclick=\"convertToInteractive('df-b19cd072-7c29-452e-a4e8-f413281a16d8')\"\n",
              "              title=\"Convert this dataframe to an interactive table.\"\n",
              "              style=\"display:none;\">\n",
              "        \n",
              "  <svg xmlns=\"http://www.w3.org/2000/svg\" height=\"24px\"viewBox=\"0 0 24 24\"\n",
              "       width=\"24px\">\n",
              "    <path d=\"M0 0h24v24H0V0z\" fill=\"none\"/>\n",
              "    <path d=\"M18.56 5.44l.94 2.06.94-2.06 2.06-.94-2.06-.94-.94-2.06-.94 2.06-2.06.94zm-11 1L8.5 8.5l.94-2.06 2.06-.94-2.06-.94L8.5 2.5l-.94 2.06-2.06.94zm10 10l.94 2.06.94-2.06 2.06-.94-2.06-.94-.94-2.06-.94 2.06-2.06.94z\"/><path d=\"M17.41 7.96l-1.37-1.37c-.4-.4-.92-.59-1.43-.59-.52 0-1.04.2-1.43.59L10.3 9.45l-7.72 7.72c-.78.78-.78 2.05 0 2.83L4 21.41c.39.39.9.59 1.41.59.51 0 1.02-.2 1.41-.59l7.78-7.78 2.81-2.81c.8-.78.8-2.07 0-2.86zM5.41 20L4 18.59l7.72-7.72 1.47 1.35L5.41 20z\"/>\n",
              "  </svg>\n",
              "      </button>\n",
              "      \n",
              "  <style>\n",
              "    .colab-df-container {\n",
              "      display:flex;\n",
              "      flex-wrap:wrap;\n",
              "      gap: 12px;\n",
              "    }\n",
              "\n",
              "    .colab-df-convert {\n",
              "      background-color: #E8F0FE;\n",
              "      border: none;\n",
              "      border-radius: 50%;\n",
              "      cursor: pointer;\n",
              "      display: none;\n",
              "      fill: #1967D2;\n",
              "      height: 32px;\n",
              "      padding: 0 0 0 0;\n",
              "      width: 32px;\n",
              "    }\n",
              "\n",
              "    .colab-df-convert:hover {\n",
              "      background-color: #E2EBFA;\n",
              "      box-shadow: 0px 1px 2px rgba(60, 64, 67, 0.3), 0px 1px 3px 1px rgba(60, 64, 67, 0.15);\n",
              "      fill: #174EA6;\n",
              "    }\n",
              "\n",
              "    [theme=dark] .colab-df-convert {\n",
              "      background-color: #3B4455;\n",
              "      fill: #D2E3FC;\n",
              "    }\n",
              "\n",
              "    [theme=dark] .colab-df-convert:hover {\n",
              "      background-color: #434B5C;\n",
              "      box-shadow: 0px 1px 3px 1px rgba(0, 0, 0, 0.15);\n",
              "      filter: drop-shadow(0px 1px 2px rgba(0, 0, 0, 0.3));\n",
              "      fill: #FFFFFF;\n",
              "    }\n",
              "  </style>\n",
              "\n",
              "      <script>\n",
              "        const buttonEl =\n",
              "          document.querySelector('#df-b19cd072-7c29-452e-a4e8-f413281a16d8 button.colab-df-convert');\n",
              "        buttonEl.style.display =\n",
              "          google.colab.kernel.accessAllowed ? 'block' : 'none';\n",
              "\n",
              "        async function convertToInteractive(key) {\n",
              "          const element = document.querySelector('#df-b19cd072-7c29-452e-a4e8-f413281a16d8');\n",
              "          const dataTable =\n",
              "            await google.colab.kernel.invokeFunction('convertToInteractive',\n",
              "                                                     [key], {});\n",
              "          if (!dataTable) return;\n",
              "\n",
              "          const docLinkHtml = 'Like what you see? Visit the ' +\n",
              "            '<a target=\"_blank\" href=https://colab.research.google.com/notebooks/data_table.ipynb>data table notebook</a>'\n",
              "            + ' to learn more about interactive tables.';\n",
              "          element.innerHTML = '';\n",
              "          dataTable['output_type'] = 'display_data';\n",
              "          await google.colab.output.renderOutput(dataTable, element);\n",
              "          const docLink = document.createElement('div');\n",
              "          docLink.innerHTML = docLinkHtml;\n",
              "          element.appendChild(docLink);\n",
              "        }\n",
              "      </script>\n",
              "    </div>\n",
              "  </div>\n",
              "  "
            ]
          },
          "metadata": {},
          "execution_count": 19
        }
      ]
    },
    {
      "cell_type": "code",
      "source": [
        "#plotting a scatter plot for all the clusters with their respective centres\n",
        "plt.scatter(X[:,0],X[:,1])\n",
        "plt.scatter(cent[:,0],cent[:,1], color = 'red', label = 'Centroids')\n",
        "plt.scatter(X[y_kmeans==0,0], X[y_kmeans == 0,1], color = 'black', label = 'Cluster 1')\n",
        "plt.scatter(X[y_kmeans==1,0], X[y_kmeans == 1,1], color = 'blue', label = 'Cluster 2')\n",
        "plt.scatter(X[y_kmeans==2,0], X[y_kmeans == 2,1], color = 'green', label = 'Cluster 3')\n",
        "plt.scatter(X[y_kmeans==3,0], X[y_kmeans == 3,1], color = 'grey', label = 'Cluster 4')\n",
        "plt.scatter(X[y_kmeans==4,0], X[y_kmeans == 4,1], color = 'orange', label = 'Cluster 5')"
      ],
      "metadata": {
        "colab": {
          "base_uri": "https://localhost:8080/",
          "height": 283
        },
        "id": "u-1gfkqVVmeQ",
        "outputId": "8b58f3f2-d62d-47b1-8da0-872d4dbd307d"
      },
      "execution_count": null,
      "outputs": [
        {
          "output_type": "execute_result",
          "data": {
            "text/plain": [
              "<matplotlib.collections.PathCollection at 0x7fd6414c2a90>"
            ]
          },
          "metadata": {},
          "execution_count": 20
        },
        {
          "output_type": "display_data",
          "data": {
            "text/plain": [
              "<Figure size 432x288 with 1 Axes>"
            ],
            "image/png": "[encoded data removed]"
          },
          "metadata": {
            "needs_background": "light"
          }
        }
      ]
    }
  ]
}